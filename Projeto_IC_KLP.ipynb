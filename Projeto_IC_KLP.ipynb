{
  "nbformat": 4,
  "nbformat_minor": 0,
  "metadata": {
    "colab": {
      "name": "Projeto_IC_KLP.ipynb",
      "provenance": [],
      "collapsed_sections": [],
      "include_colab_link": true
    },
    "kernelspec": {
      "name": "python3",
      "display_name": "Python 3"
    }
  },
  "cells": [
    {
      "cell_type": "markdown",
      "metadata": {
        "id": "view-in-github",
        "colab_type": "text"
      },
      "source": [
        "<a href=\"https://colab.research.google.com/github/Lucka-Gianvechio/klp-Projeto-IC/blob/main/Projeto_IC_KLP.ipynb\" target=\"_parent\"><img src=\"https://colab.research.google.com/assets/colab-badge.svg\" alt=\"Open In Colab\"/></a>"
      ]
    },
    {
      "cell_type": "markdown",
      "metadata": {
        "id": "rPHIiMrpXpL_"
      },
      "source": [
        "#Introdução "
      ]
    },
    {
      "cell_type": "markdown",
      "metadata": {
        "id": "GXuXC3AXX7Bi"
      },
      "source": [
        "Neste projeto analisaremos um conjunto de dados do pacote scikit-learn. Esses dados são originalmente do repositório de Machine Learning da UCI e podem ser carregados utilizando a biblioteca sklearn.\n",
        "\n",
        "O conjunto de dados contém 506 entradas, 13 features e 1 target com informações de várias casas em Boston, Massachusetts.  \n",
        "\n",
        "Nosso objetivo é desenvolver e avaliar o desempenho de um modelo preditivo de valores de imovéis, começando pela abertura dos dados, análise descritiva das variáveis, criação de insights e a modelagem preditiva de regressão."
      ]
    },
    {
      "cell_type": "markdown",
      "metadata": {
        "id": "6WR07EBCU9aa"
      },
      "source": [
        "#Importando as bibliotecas necessárias para a manipulação dos dados"
      ]
    },
    {
      "cell_type": "code",
      "metadata": {
        "id": "swDR6ISr4Egg"
      },
      "source": [
        "#Importando as bibliotecas necessárias para manipulação e visualização dos dados.\n",
        "\n",
        "import numpy as np\n",
        "import pandas as pd\n",
        "import sklearn as sk\n",
        "import matplotlib.pyplot as plt\n",
        "import seaborn as sb\n",
        "from scipy.stats import f_oneway, chisquare\n",
        "from sklearn import datasets\n",
        "from sklearn.model_selection import train_test_split\n",
        "from sklearn.preprocessing import StandardScaler"
      ],
      "execution_count": 51,
      "outputs": []
    },
    {
      "cell_type": "markdown",
      "metadata": {
        "id": "W2EPakszhF94"
      },
      "source": [
        "#Carregando os dados e criando um Dataframe"
      ]
    },
    {
      "cell_type": "code",
      "metadata": {
        "id": "3F05VGDadJCL"
      },
      "source": [
        "boston = datasets.load_boston(return_X_y = False)"
      ],
      "execution_count": 52,
      "outputs": []
    },
    {
      "cell_type": "markdown",
      "metadata": {
        "id": "72gxU-fQfpuz"
      },
      "source": [
        "\n",
        "\n",
        "1.   Número de casos: 506\n",
        "\n",
        "\n",
        "2.   Variáveis (14 atributos):\n",
        "\n",
        "* CRIM - Taxa de criminalidade per capita.\n",
        "* ZN - A proporção de terrenos residenciais zoneada para lotes com mais de 25.000 pés quadrados.\n",
        "* INDUS - A proporção de acres comerciais não varejistas por cidade.\n",
        "* CHAS - Variável dummy de Charles River (= 1 se o trato da casa limita o rio ou 0 caso contrário).\n",
        "* NOX - Concentração de óxidos nítricos (partes por milhão).\n",
        "* RM - O número médio de quartos por habitação.\n",
        "* AGE - A proporção de unidades ocupadas pelo proprietário construídas antes de 1940.\n",
        "* DIS - Distâncias ponderadas para cinco centros de emprego em Boston.\n",
        "* RAD - Índice de acessibilidade às autoestradas radiais.\n",
        "* TAX - Taxa de imposto sobre propriedades de valor integral por US\\$ 10.000.\n",
        "* PTRATIO - Relação aluno-professor por cidade.\n",
        "* B - $1000 (Bk - 0,63) ^ 2$ onde Bk é a proporção de negros por cidade.\n",
        "* LSTAT - Percentagem de status inferior da população.\n",
        "* PRICE - Valor médio das casas em US\\$1.000.\n",
        "\n",
        "\n",
        "\n",
        "\n",
        "\n"
      ]
    },
    {
      "cell_type": "code",
      "metadata": {
        "id": "tpBGjIUKdpoE"
      },
      "source": [
        "dataframe = pd.DataFrame(data = boston.data, columns = boston.feature_names)"
      ],
      "execution_count": 53,
      "outputs": []
    },
    {
      "cell_type": "code",
      "metadata": {
        "id": "UukPQavoeE92"
      },
      "source": [
        "#Dataframe com \"data\" e \"target\" concatenados\n",
        "dataframe['PRICE'] = boston.target"
      ],
      "execution_count": 54,
      "outputs": []
    },
    {
      "cell_type": "code",
      "metadata": {
        "id": "km7ahNhMoSeo",
        "outputId": "21180400-e9cd-4b1e-baf8-be254139176e",
        "colab": {
          "base_uri": "https://localhost:8080/",
          "height": 35
        }
      },
      "source": [
        "#Número de linhas e colunas do Dataframe\n",
        "dataframe.shape"
      ],
      "execution_count": 55,
      "outputs": [
        {
          "output_type": "execute_result",
          "data": {
            "text/plain": [
              "(506, 14)"
            ]
          },
          "metadata": {
            "tags": []
          },
          "execution_count": 55
        }
      ]
    },
    {
      "cell_type": "markdown",
      "metadata": {
        "id": "61fRlAYoioMt"
      },
      "source": [
        "#Análise Exploratória dos Dados"
      ]
    },
    {
      "cell_type": "markdown",
      "metadata": {
        "id": "WZuMqlrjjBGA"
      },
      "source": [
        "Primeiro vamos vizualizar as primeiras 15 linhas para ter uma ideia do tipo dos dados."
      ]
    },
    {
      "cell_type": "code",
      "metadata": {
        "id": "OEgwIBB9eUri",
        "outputId": "bbe5a8ed-d568-414d-98ce-2e519a73e43b",
        "colab": {
          "base_uri": "https://localhost:8080/",
          "height": 520
        }
      },
      "source": [
        "dataframe.head(15)"
      ],
      "execution_count": 56,
      "outputs": [
        {
          "output_type": "execute_result",
          "data": {
            "text/html": [
              "<div>\n",
              "<style scoped>\n",
              "    .dataframe tbody tr th:only-of-type {\n",
              "        vertical-align: middle;\n",
              "    }\n",
              "\n",
              "    .dataframe tbody tr th {\n",
              "        vertical-align: top;\n",
              "    }\n",
              "\n",
              "    .dataframe thead th {\n",
              "        text-align: right;\n",
              "    }\n",
              "</style>\n",
              "<table border=\"1\" class=\"dataframe\">\n",
              "  <thead>\n",
              "    <tr style=\"text-align: right;\">\n",
              "      <th></th>\n",
              "      <th>CRIM</th>\n",
              "      <th>ZN</th>\n",
              "      <th>INDUS</th>\n",
              "      <th>CHAS</th>\n",
              "      <th>NOX</th>\n",
              "      <th>RM</th>\n",
              "      <th>AGE</th>\n",
              "      <th>DIS</th>\n",
              "      <th>RAD</th>\n",
              "      <th>TAX</th>\n",
              "      <th>PTRATIO</th>\n",
              "      <th>B</th>\n",
              "      <th>LSTAT</th>\n",
              "      <th>PRICE</th>\n",
              "    </tr>\n",
              "  </thead>\n",
              "  <tbody>\n",
              "    <tr>\n",
              "      <th>0</th>\n",
              "      <td>0.00632</td>\n",
              "      <td>18.0</td>\n",
              "      <td>2.31</td>\n",
              "      <td>0.0</td>\n",
              "      <td>0.538</td>\n",
              "      <td>6.575</td>\n",
              "      <td>65.2</td>\n",
              "      <td>4.0900</td>\n",
              "      <td>1.0</td>\n",
              "      <td>296.0</td>\n",
              "      <td>15.3</td>\n",
              "      <td>396.90</td>\n",
              "      <td>4.98</td>\n",
              "      <td>24.0</td>\n",
              "    </tr>\n",
              "    <tr>\n",
              "      <th>1</th>\n",
              "      <td>0.02731</td>\n",
              "      <td>0.0</td>\n",
              "      <td>7.07</td>\n",
              "      <td>0.0</td>\n",
              "      <td>0.469</td>\n",
              "      <td>6.421</td>\n",
              "      <td>78.9</td>\n",
              "      <td>4.9671</td>\n",
              "      <td>2.0</td>\n",
              "      <td>242.0</td>\n",
              "      <td>17.8</td>\n",
              "      <td>396.90</td>\n",
              "      <td>9.14</td>\n",
              "      <td>21.6</td>\n",
              "    </tr>\n",
              "    <tr>\n",
              "      <th>2</th>\n",
              "      <td>0.02729</td>\n",
              "      <td>0.0</td>\n",
              "      <td>7.07</td>\n",
              "      <td>0.0</td>\n",
              "      <td>0.469</td>\n",
              "      <td>7.185</td>\n",
              "      <td>61.1</td>\n",
              "      <td>4.9671</td>\n",
              "      <td>2.0</td>\n",
              "      <td>242.0</td>\n",
              "      <td>17.8</td>\n",
              "      <td>392.83</td>\n",
              "      <td>4.03</td>\n",
              "      <td>34.7</td>\n",
              "    </tr>\n",
              "    <tr>\n",
              "      <th>3</th>\n",
              "      <td>0.03237</td>\n",
              "      <td>0.0</td>\n",
              "      <td>2.18</td>\n",
              "      <td>0.0</td>\n",
              "      <td>0.458</td>\n",
              "      <td>6.998</td>\n",
              "      <td>45.8</td>\n",
              "      <td>6.0622</td>\n",
              "      <td>3.0</td>\n",
              "      <td>222.0</td>\n",
              "      <td>18.7</td>\n",
              "      <td>394.63</td>\n",
              "      <td>2.94</td>\n",
              "      <td>33.4</td>\n",
              "    </tr>\n",
              "    <tr>\n",
              "      <th>4</th>\n",
              "      <td>0.06905</td>\n",
              "      <td>0.0</td>\n",
              "      <td>2.18</td>\n",
              "      <td>0.0</td>\n",
              "      <td>0.458</td>\n",
              "      <td>7.147</td>\n",
              "      <td>54.2</td>\n",
              "      <td>6.0622</td>\n",
              "      <td>3.0</td>\n",
              "      <td>222.0</td>\n",
              "      <td>18.7</td>\n",
              "      <td>396.90</td>\n",
              "      <td>5.33</td>\n",
              "      <td>36.2</td>\n",
              "    </tr>\n",
              "    <tr>\n",
              "      <th>5</th>\n",
              "      <td>0.02985</td>\n",
              "      <td>0.0</td>\n",
              "      <td>2.18</td>\n",
              "      <td>0.0</td>\n",
              "      <td>0.458</td>\n",
              "      <td>6.430</td>\n",
              "      <td>58.7</td>\n",
              "      <td>6.0622</td>\n",
              "      <td>3.0</td>\n",
              "      <td>222.0</td>\n",
              "      <td>18.7</td>\n",
              "      <td>394.12</td>\n",
              "      <td>5.21</td>\n",
              "      <td>28.7</td>\n",
              "    </tr>\n",
              "    <tr>\n",
              "      <th>6</th>\n",
              "      <td>0.08829</td>\n",
              "      <td>12.5</td>\n",
              "      <td>7.87</td>\n",
              "      <td>0.0</td>\n",
              "      <td>0.524</td>\n",
              "      <td>6.012</td>\n",
              "      <td>66.6</td>\n",
              "      <td>5.5605</td>\n",
              "      <td>5.0</td>\n",
              "      <td>311.0</td>\n",
              "      <td>15.2</td>\n",
              "      <td>395.60</td>\n",
              "      <td>12.43</td>\n",
              "      <td>22.9</td>\n",
              "    </tr>\n",
              "    <tr>\n",
              "      <th>7</th>\n",
              "      <td>0.14455</td>\n",
              "      <td>12.5</td>\n",
              "      <td>7.87</td>\n",
              "      <td>0.0</td>\n",
              "      <td>0.524</td>\n",
              "      <td>6.172</td>\n",
              "      <td>96.1</td>\n",
              "      <td>5.9505</td>\n",
              "      <td>5.0</td>\n",
              "      <td>311.0</td>\n",
              "      <td>15.2</td>\n",
              "      <td>396.90</td>\n",
              "      <td>19.15</td>\n",
              "      <td>27.1</td>\n",
              "    </tr>\n",
              "    <tr>\n",
              "      <th>8</th>\n",
              "      <td>0.21124</td>\n",
              "      <td>12.5</td>\n",
              "      <td>7.87</td>\n",
              "      <td>0.0</td>\n",
              "      <td>0.524</td>\n",
              "      <td>5.631</td>\n",
              "      <td>100.0</td>\n",
              "      <td>6.0821</td>\n",
              "      <td>5.0</td>\n",
              "      <td>311.0</td>\n",
              "      <td>15.2</td>\n",
              "      <td>386.63</td>\n",
              "      <td>29.93</td>\n",
              "      <td>16.5</td>\n",
              "    </tr>\n",
              "    <tr>\n",
              "      <th>9</th>\n",
              "      <td>0.17004</td>\n",
              "      <td>12.5</td>\n",
              "      <td>7.87</td>\n",
              "      <td>0.0</td>\n",
              "      <td>0.524</td>\n",
              "      <td>6.004</td>\n",
              "      <td>85.9</td>\n",
              "      <td>6.5921</td>\n",
              "      <td>5.0</td>\n",
              "      <td>311.0</td>\n",
              "      <td>15.2</td>\n",
              "      <td>386.71</td>\n",
              "      <td>17.10</td>\n",
              "      <td>18.9</td>\n",
              "    </tr>\n",
              "    <tr>\n",
              "      <th>10</th>\n",
              "      <td>0.22489</td>\n",
              "      <td>12.5</td>\n",
              "      <td>7.87</td>\n",
              "      <td>0.0</td>\n",
              "      <td>0.524</td>\n",
              "      <td>6.377</td>\n",
              "      <td>94.3</td>\n",
              "      <td>6.3467</td>\n",
              "      <td>5.0</td>\n",
              "      <td>311.0</td>\n",
              "      <td>15.2</td>\n",
              "      <td>392.52</td>\n",
              "      <td>20.45</td>\n",
              "      <td>15.0</td>\n",
              "    </tr>\n",
              "    <tr>\n",
              "      <th>11</th>\n",
              "      <td>0.11747</td>\n",
              "      <td>12.5</td>\n",
              "      <td>7.87</td>\n",
              "      <td>0.0</td>\n",
              "      <td>0.524</td>\n",
              "      <td>6.009</td>\n",
              "      <td>82.9</td>\n",
              "      <td>6.2267</td>\n",
              "      <td>5.0</td>\n",
              "      <td>311.0</td>\n",
              "      <td>15.2</td>\n",
              "      <td>396.90</td>\n",
              "      <td>13.27</td>\n",
              "      <td>18.9</td>\n",
              "    </tr>\n",
              "    <tr>\n",
              "      <th>12</th>\n",
              "      <td>0.09378</td>\n",
              "      <td>12.5</td>\n",
              "      <td>7.87</td>\n",
              "      <td>0.0</td>\n",
              "      <td>0.524</td>\n",
              "      <td>5.889</td>\n",
              "      <td>39.0</td>\n",
              "      <td>5.4509</td>\n",
              "      <td>5.0</td>\n",
              "      <td>311.0</td>\n",
              "      <td>15.2</td>\n",
              "      <td>390.50</td>\n",
              "      <td>15.71</td>\n",
              "      <td>21.7</td>\n",
              "    </tr>\n",
              "    <tr>\n",
              "      <th>13</th>\n",
              "      <td>0.62976</td>\n",
              "      <td>0.0</td>\n",
              "      <td>8.14</td>\n",
              "      <td>0.0</td>\n",
              "      <td>0.538</td>\n",
              "      <td>5.949</td>\n",
              "      <td>61.8</td>\n",
              "      <td>4.7075</td>\n",
              "      <td>4.0</td>\n",
              "      <td>307.0</td>\n",
              "      <td>21.0</td>\n",
              "      <td>396.90</td>\n",
              "      <td>8.26</td>\n",
              "      <td>20.4</td>\n",
              "    </tr>\n",
              "    <tr>\n",
              "      <th>14</th>\n",
              "      <td>0.63796</td>\n",
              "      <td>0.0</td>\n",
              "      <td>8.14</td>\n",
              "      <td>0.0</td>\n",
              "      <td>0.538</td>\n",
              "      <td>6.096</td>\n",
              "      <td>84.5</td>\n",
              "      <td>4.4619</td>\n",
              "      <td>4.0</td>\n",
              "      <td>307.0</td>\n",
              "      <td>21.0</td>\n",
              "      <td>380.02</td>\n",
              "      <td>10.26</td>\n",
              "      <td>18.2</td>\n",
              "    </tr>\n",
              "  </tbody>\n",
              "</table>\n",
              "</div>"
            ],
            "text/plain": [
              "       CRIM    ZN  INDUS  CHAS    NOX  ...    TAX  PTRATIO       B  LSTAT  PRICE\n",
              "0   0.00632  18.0   2.31   0.0  0.538  ...  296.0     15.3  396.90   4.98   24.0\n",
              "1   0.02731   0.0   7.07   0.0  0.469  ...  242.0     17.8  396.90   9.14   21.6\n",
              "2   0.02729   0.0   7.07   0.0  0.469  ...  242.0     17.8  392.83   4.03   34.7\n",
              "3   0.03237   0.0   2.18   0.0  0.458  ...  222.0     18.7  394.63   2.94   33.4\n",
              "4   0.06905   0.0   2.18   0.0  0.458  ...  222.0     18.7  396.90   5.33   36.2\n",
              "5   0.02985   0.0   2.18   0.0  0.458  ...  222.0     18.7  394.12   5.21   28.7\n",
              "6   0.08829  12.5   7.87   0.0  0.524  ...  311.0     15.2  395.60  12.43   22.9\n",
              "7   0.14455  12.5   7.87   0.0  0.524  ...  311.0     15.2  396.90  19.15   27.1\n",
              "8   0.21124  12.5   7.87   0.0  0.524  ...  311.0     15.2  386.63  29.93   16.5\n",
              "9   0.17004  12.5   7.87   0.0  0.524  ...  311.0     15.2  386.71  17.10   18.9\n",
              "10  0.22489  12.5   7.87   0.0  0.524  ...  311.0     15.2  392.52  20.45   15.0\n",
              "11  0.11747  12.5   7.87   0.0  0.524  ...  311.0     15.2  396.90  13.27   18.9\n",
              "12  0.09378  12.5   7.87   0.0  0.524  ...  311.0     15.2  390.50  15.71   21.7\n",
              "13  0.62976   0.0   8.14   0.0  0.538  ...  307.0     21.0  396.90   8.26   20.4\n",
              "14  0.63796   0.0   8.14   0.0  0.538  ...  307.0     21.0  380.02  10.26   18.2\n",
              "\n",
              "[15 rows x 14 columns]"
            ]
          },
          "metadata": {
            "tags": []
          },
          "execution_count": 56
        }
      ]
    },
    {
      "cell_type": "markdown",
      "metadata": {
        "id": "jRNP25hvjM1i"
      },
      "source": [
        "Podemos perceber que as colunas 'CHAS' e 'RAD' assumem valores discretos, sendo que 'CHAS' é uma variável dicotômica, assumindo valores 0 ou 1. As demais colunas assumem valores contínuos."
      ]
    },
    {
      "cell_type": "markdown",
      "metadata": {
        "id": "Zy6UI4hXpVir"
      },
      "source": [
        "Vamos tratar os valores de 'CHAS' e 'RAD' para serem inteiros."
      ]
    },
    {
      "cell_type": "code",
      "metadata": {
        "id": "QzCqJHBXjuCv",
        "outputId": "5ed6867d-20d4-4b2b-ab43-0def7f227047",
        "colab": {
          "base_uri": "https://localhost:8080/",
          "height": 206
        }
      },
      "source": [
        "dataframe = dataframe.astype({'CHAS': int, 'RAD': int})\n",
        "dataframe.head(5)"
      ],
      "execution_count": 57,
      "outputs": [
        {
          "output_type": "execute_result",
          "data": {
            "text/html": [
              "<div>\n",
              "<style scoped>\n",
              "    .dataframe tbody tr th:only-of-type {\n",
              "        vertical-align: middle;\n",
              "    }\n",
              "\n",
              "    .dataframe tbody tr th {\n",
              "        vertical-align: top;\n",
              "    }\n",
              "\n",
              "    .dataframe thead th {\n",
              "        text-align: right;\n",
              "    }\n",
              "</style>\n",
              "<table border=\"1\" class=\"dataframe\">\n",
              "  <thead>\n",
              "    <tr style=\"text-align: right;\">\n",
              "      <th></th>\n",
              "      <th>CRIM</th>\n",
              "      <th>ZN</th>\n",
              "      <th>INDUS</th>\n",
              "      <th>CHAS</th>\n",
              "      <th>NOX</th>\n",
              "      <th>RM</th>\n",
              "      <th>AGE</th>\n",
              "      <th>DIS</th>\n",
              "      <th>RAD</th>\n",
              "      <th>TAX</th>\n",
              "      <th>PTRATIO</th>\n",
              "      <th>B</th>\n",
              "      <th>LSTAT</th>\n",
              "      <th>PRICE</th>\n",
              "    </tr>\n",
              "  </thead>\n",
              "  <tbody>\n",
              "    <tr>\n",
              "      <th>0</th>\n",
              "      <td>0.00632</td>\n",
              "      <td>18.0</td>\n",
              "      <td>2.31</td>\n",
              "      <td>0</td>\n",
              "      <td>0.538</td>\n",
              "      <td>6.575</td>\n",
              "      <td>65.2</td>\n",
              "      <td>4.0900</td>\n",
              "      <td>1</td>\n",
              "      <td>296.0</td>\n",
              "      <td>15.3</td>\n",
              "      <td>396.90</td>\n",
              "      <td>4.98</td>\n",
              "      <td>24.0</td>\n",
              "    </tr>\n",
              "    <tr>\n",
              "      <th>1</th>\n",
              "      <td>0.02731</td>\n",
              "      <td>0.0</td>\n",
              "      <td>7.07</td>\n",
              "      <td>0</td>\n",
              "      <td>0.469</td>\n",
              "      <td>6.421</td>\n",
              "      <td>78.9</td>\n",
              "      <td>4.9671</td>\n",
              "      <td>2</td>\n",
              "      <td>242.0</td>\n",
              "      <td>17.8</td>\n",
              "      <td>396.90</td>\n",
              "      <td>9.14</td>\n",
              "      <td>21.6</td>\n",
              "    </tr>\n",
              "    <tr>\n",
              "      <th>2</th>\n",
              "      <td>0.02729</td>\n",
              "      <td>0.0</td>\n",
              "      <td>7.07</td>\n",
              "      <td>0</td>\n",
              "      <td>0.469</td>\n",
              "      <td>7.185</td>\n",
              "      <td>61.1</td>\n",
              "      <td>4.9671</td>\n",
              "      <td>2</td>\n",
              "      <td>242.0</td>\n",
              "      <td>17.8</td>\n",
              "      <td>392.83</td>\n",
              "      <td>4.03</td>\n",
              "      <td>34.7</td>\n",
              "    </tr>\n",
              "    <tr>\n",
              "      <th>3</th>\n",
              "      <td>0.03237</td>\n",
              "      <td>0.0</td>\n",
              "      <td>2.18</td>\n",
              "      <td>0</td>\n",
              "      <td>0.458</td>\n",
              "      <td>6.998</td>\n",
              "      <td>45.8</td>\n",
              "      <td>6.0622</td>\n",
              "      <td>3</td>\n",
              "      <td>222.0</td>\n",
              "      <td>18.7</td>\n",
              "      <td>394.63</td>\n",
              "      <td>2.94</td>\n",
              "      <td>33.4</td>\n",
              "    </tr>\n",
              "    <tr>\n",
              "      <th>4</th>\n",
              "      <td>0.06905</td>\n",
              "      <td>0.0</td>\n",
              "      <td>2.18</td>\n",
              "      <td>0</td>\n",
              "      <td>0.458</td>\n",
              "      <td>7.147</td>\n",
              "      <td>54.2</td>\n",
              "      <td>6.0622</td>\n",
              "      <td>3</td>\n",
              "      <td>222.0</td>\n",
              "      <td>18.7</td>\n",
              "      <td>396.90</td>\n",
              "      <td>5.33</td>\n",
              "      <td>36.2</td>\n",
              "    </tr>\n",
              "  </tbody>\n",
              "</table>\n",
              "</div>"
            ],
            "text/plain": [
              "      CRIM    ZN  INDUS  CHAS    NOX  ...    TAX  PTRATIO       B  LSTAT  PRICE\n",
              "0  0.00632  18.0   2.31     0  0.538  ...  296.0     15.3  396.90   4.98   24.0\n",
              "1  0.02731   0.0   7.07     0  0.469  ...  242.0     17.8  396.90   9.14   21.6\n",
              "2  0.02729   0.0   7.07     0  0.469  ...  242.0     17.8  392.83   4.03   34.7\n",
              "3  0.03237   0.0   2.18     0  0.458  ...  222.0     18.7  394.63   2.94   33.4\n",
              "4  0.06905   0.0   2.18     0  0.458  ...  222.0     18.7  396.90   5.33   36.2\n",
              "\n",
              "[5 rows x 14 columns]"
            ]
          },
          "metadata": {
            "tags": []
          },
          "execution_count": 57
        }
      ]
    },
    {
      "cell_type": "markdown",
      "metadata": {
        "id": "5SaDgANsrmcr"
      },
      "source": [
        "Temos então a tabela que descreve as características principais dos dados."
      ]
    },
    {
      "cell_type": "code",
      "metadata": {
        "id": "JHUP8XNAjzhA",
        "outputId": "da586220-552c-4d94-a1b3-b56ba8fadfe2",
        "colab": {
          "base_uri": "https://localhost:8080/",
          "height": 300
        }
      },
      "source": [
        "dataframe.describe()"
      ],
      "execution_count": 58,
      "outputs": [
        {
          "output_type": "execute_result",
          "data": {
            "text/html": [
              "<div>\n",
              "<style scoped>\n",
              "    .dataframe tbody tr th:only-of-type {\n",
              "        vertical-align: middle;\n",
              "    }\n",
              "\n",
              "    .dataframe tbody tr th {\n",
              "        vertical-align: top;\n",
              "    }\n",
              "\n",
              "    .dataframe thead th {\n",
              "        text-align: right;\n",
              "    }\n",
              "</style>\n",
              "<table border=\"1\" class=\"dataframe\">\n",
              "  <thead>\n",
              "    <tr style=\"text-align: right;\">\n",
              "      <th></th>\n",
              "      <th>CRIM</th>\n",
              "      <th>ZN</th>\n",
              "      <th>INDUS</th>\n",
              "      <th>CHAS</th>\n",
              "      <th>NOX</th>\n",
              "      <th>RM</th>\n",
              "      <th>AGE</th>\n",
              "      <th>DIS</th>\n",
              "      <th>RAD</th>\n",
              "      <th>TAX</th>\n",
              "      <th>PTRATIO</th>\n",
              "      <th>B</th>\n",
              "      <th>LSTAT</th>\n",
              "      <th>PRICE</th>\n",
              "    </tr>\n",
              "  </thead>\n",
              "  <tbody>\n",
              "    <tr>\n",
              "      <th>count</th>\n",
              "      <td>506.000000</td>\n",
              "      <td>506.000000</td>\n",
              "      <td>506.000000</td>\n",
              "      <td>506.000000</td>\n",
              "      <td>506.000000</td>\n",
              "      <td>506.000000</td>\n",
              "      <td>506.000000</td>\n",
              "      <td>506.000000</td>\n",
              "      <td>506.000000</td>\n",
              "      <td>506.000000</td>\n",
              "      <td>506.000000</td>\n",
              "      <td>506.000000</td>\n",
              "      <td>506.000000</td>\n",
              "      <td>506.000000</td>\n",
              "    </tr>\n",
              "    <tr>\n",
              "      <th>mean</th>\n",
              "      <td>3.613524</td>\n",
              "      <td>11.363636</td>\n",
              "      <td>11.136779</td>\n",
              "      <td>0.069170</td>\n",
              "      <td>0.554695</td>\n",
              "      <td>6.284634</td>\n",
              "      <td>68.574901</td>\n",
              "      <td>3.795043</td>\n",
              "      <td>9.549407</td>\n",
              "      <td>408.237154</td>\n",
              "      <td>18.455534</td>\n",
              "      <td>356.674032</td>\n",
              "      <td>12.653063</td>\n",
              "      <td>22.532806</td>\n",
              "    </tr>\n",
              "    <tr>\n",
              "      <th>std</th>\n",
              "      <td>8.601545</td>\n",
              "      <td>23.322453</td>\n",
              "      <td>6.860353</td>\n",
              "      <td>0.253994</td>\n",
              "      <td>0.115878</td>\n",
              "      <td>0.702617</td>\n",
              "      <td>28.148861</td>\n",
              "      <td>2.105710</td>\n",
              "      <td>8.707259</td>\n",
              "      <td>168.537116</td>\n",
              "      <td>2.164946</td>\n",
              "      <td>91.294864</td>\n",
              "      <td>7.141062</td>\n",
              "      <td>9.197104</td>\n",
              "    </tr>\n",
              "    <tr>\n",
              "      <th>min</th>\n",
              "      <td>0.006320</td>\n",
              "      <td>0.000000</td>\n",
              "      <td>0.460000</td>\n",
              "      <td>0.000000</td>\n",
              "      <td>0.385000</td>\n",
              "      <td>3.561000</td>\n",
              "      <td>2.900000</td>\n",
              "      <td>1.129600</td>\n",
              "      <td>1.000000</td>\n",
              "      <td>187.000000</td>\n",
              "      <td>12.600000</td>\n",
              "      <td>0.320000</td>\n",
              "      <td>1.730000</td>\n",
              "      <td>5.000000</td>\n",
              "    </tr>\n",
              "    <tr>\n",
              "      <th>25%</th>\n",
              "      <td>0.082045</td>\n",
              "      <td>0.000000</td>\n",
              "      <td>5.190000</td>\n",
              "      <td>0.000000</td>\n",
              "      <td>0.449000</td>\n",
              "      <td>5.885500</td>\n",
              "      <td>45.025000</td>\n",
              "      <td>2.100175</td>\n",
              "      <td>4.000000</td>\n",
              "      <td>279.000000</td>\n",
              "      <td>17.400000</td>\n",
              "      <td>375.377500</td>\n",
              "      <td>6.950000</td>\n",
              "      <td>17.025000</td>\n",
              "    </tr>\n",
              "    <tr>\n",
              "      <th>50%</th>\n",
              "      <td>0.256510</td>\n",
              "      <td>0.000000</td>\n",
              "      <td>9.690000</td>\n",
              "      <td>0.000000</td>\n",
              "      <td>0.538000</td>\n",
              "      <td>6.208500</td>\n",
              "      <td>77.500000</td>\n",
              "      <td>3.207450</td>\n",
              "      <td>5.000000</td>\n",
              "      <td>330.000000</td>\n",
              "      <td>19.050000</td>\n",
              "      <td>391.440000</td>\n",
              "      <td>11.360000</td>\n",
              "      <td>21.200000</td>\n",
              "    </tr>\n",
              "    <tr>\n",
              "      <th>75%</th>\n",
              "      <td>3.677083</td>\n",
              "      <td>12.500000</td>\n",
              "      <td>18.100000</td>\n",
              "      <td>0.000000</td>\n",
              "      <td>0.624000</td>\n",
              "      <td>6.623500</td>\n",
              "      <td>94.075000</td>\n",
              "      <td>5.188425</td>\n",
              "      <td>24.000000</td>\n",
              "      <td>666.000000</td>\n",
              "      <td>20.200000</td>\n",
              "      <td>396.225000</td>\n",
              "      <td>16.955000</td>\n",
              "      <td>25.000000</td>\n",
              "    </tr>\n",
              "    <tr>\n",
              "      <th>max</th>\n",
              "      <td>88.976200</td>\n",
              "      <td>100.000000</td>\n",
              "      <td>27.740000</td>\n",
              "      <td>1.000000</td>\n",
              "      <td>0.871000</td>\n",
              "      <td>8.780000</td>\n",
              "      <td>100.000000</td>\n",
              "      <td>12.126500</td>\n",
              "      <td>24.000000</td>\n",
              "      <td>711.000000</td>\n",
              "      <td>22.000000</td>\n",
              "      <td>396.900000</td>\n",
              "      <td>37.970000</td>\n",
              "      <td>50.000000</td>\n",
              "    </tr>\n",
              "  </tbody>\n",
              "</table>\n",
              "</div>"
            ],
            "text/plain": [
              "             CRIM          ZN       INDUS  ...           B       LSTAT       PRICE\n",
              "count  506.000000  506.000000  506.000000  ...  506.000000  506.000000  506.000000\n",
              "mean     3.613524   11.363636   11.136779  ...  356.674032   12.653063   22.532806\n",
              "std      8.601545   23.322453    6.860353  ...   91.294864    7.141062    9.197104\n",
              "min      0.006320    0.000000    0.460000  ...    0.320000    1.730000    5.000000\n",
              "25%      0.082045    0.000000    5.190000  ...  375.377500    6.950000   17.025000\n",
              "50%      0.256510    0.000000    9.690000  ...  391.440000   11.360000   21.200000\n",
              "75%      3.677083   12.500000   18.100000  ...  396.225000   16.955000   25.000000\n",
              "max     88.976200  100.000000   27.740000  ...  396.900000   37.970000   50.000000\n",
              "\n",
              "[8 rows x 14 columns]"
            ]
          },
          "metadata": {
            "tags": []
          },
          "execution_count": 58
        }
      ]
    },
    {
      "cell_type": "markdown",
      "metadata": {
        "id": "KeIsf9JQYWXO"
      },
      "source": [
        "##Analisando os gráficos\n",
        "Observaremos o comportamento dos histogramas, gráficos de densidade e barras e box-plots para entendermos o comportamento das features individualmente."
      ]
    },
    {
      "cell_type": "markdown",
      "metadata": {
        "id": "RnPe_49yZJOW"
      },
      "source": [
        "###Discretas"
      ]
    },
    {
      "cell_type": "markdown",
      "metadata": {
        "id": "xAmeih7Edsxh"
      },
      "source": [
        "####CHAS\n",
        "Indicador de proximidade da propriedade ao \"Charles River\"."
      ]
    },
    {
      "cell_type": "code",
      "metadata": {
        "id": "V1xDdQzfZaDl",
        "outputId": "075a9af4-ec70-46df-c509-298c778784e7",
        "colab": {
          "base_uri": "https://localhost:8080/",
          "height": 295
        }
      },
      "source": [
        "#Countplot\n",
        "sb.countplot(x = dataframe['CHAS'])\n",
        "plt.xlabel(\"Valor\")\n",
        "plt.ylabel(\"\")\n",
        "plt.title(\"CHAS\")\n",
        "plt.show()"
      ],
      "execution_count": 59,
      "outputs": [
        {
          "output_type": "display_data",
          "data": {
            "image/png": "[encoded data removed]",
            "text/plain": [
              "<Figure size 432x288 with 1 Axes>"
            ]
          },
          "metadata": {
            "tags": [],
            "needs_background": "light"
          }
        }
      ]
    },
    {
      "cell_type": "markdown",
      "metadata": {
        "id": "z2UVEp53dirK"
      },
      "source": [
        "####RAD\n",
        " Índice de acessibilidade às autoestradas radiais.\n",
        "\n"
      ]
    },
    {
      "cell_type": "code",
      "metadata": {
        "id": "Vz2diYlFdmdY",
        "outputId": "586609e8-cc0e-4c22-e4c8-fdca749528ea",
        "colab": {
          "base_uri": "https://localhost:8080/",
          "height": 295
        }
      },
      "source": [
        "#CountPlot\n",
        "sb.countplot(x = dataframe['RAD'])\n",
        "plt.xlabel(\"Valor\")\n",
        "plt.ylabel(\"\")\n",
        "plt.title(\"RAD\")\n",
        "plt.show()\n"
      ],
      "execution_count": 60,
      "outputs": [
        {
          "output_type": "display_data",
          "data": {
            "image/png": "[encoded data removed]",
            "text/plain": [
              "<Figure size 432x288 with 1 Axes>"
            ]
          },
          "metadata": {
            "tags": [],
            "needs_background": "light"
          }
        }
      ]
    },
    {
      "cell_type": "markdown",
      "metadata": {
        "id": "e-KqzhGIfESU"
      },
      "source": [
        "###Contínuas"
      ]
    },
    {
      "cell_type": "code",
      "metadata": {
        "id": "kiiHBPU6pjaU",
        "outputId": "92fb78a6-8893-4cdf-a33e-52b4daee4e99",
        "colab": {
          "base_uri": "https://localhost:8080/",
          "height": 879
        }
      },
      "source": [
        "dataframe.hist(['CRIM', 'ZN', 'INDUS', 'NOX', 'RM', 'AGE', 'DIS', 'TAX',\n",
        "                 'PTRATIO', 'B', 'LSTAT', 'PRICE'], figsize=(25,15), )\n",
        "plt.show()"
      ],
      "execution_count": 61,
      "outputs": [
        {
          "output_type": "display_data",
          "data": {
            "image/png": "[encoded data removed]",
            "text/plain": [
              "<Figure size 1800x1080 with 12 Axes>"
            ]
          },
          "metadata": {
            "tags": [],
            "needs_background": "light"
          }
        }
      ]
    },
    {
      "cell_type": "code",
      "metadata": {
        "id": "Kv5319NWqy8M",
        "outputId": "7af97461-66d1-45ea-c0bb-760d1390ff0f",
        "colab": {
          "base_uri": "https://localhost:8080/",
          "height": 135
        }
      },
      "source": [
        "\n",
        "\n",
        "continuas =['CRIM', 'ZN', 'INDUS', 'NOX', 'RM', 'AGE', 'DIS', 'TAX',\n",
        "                 'PTRATIO', 'B', 'LSTAT', 'PRICE']\n",
        "\n",
        "\n",
        "ContinuousCols=['CRIM', 'ZN', 'INDUS', 'NOX', 'RM', 'AGE', 'DIS', 'TAX',\n",
        "'''                'PTRATIO', 'B', 'LSTAT']\n",
        "plt.subplots()\n",
        "# Plotting scatter chart for each predictor vs the target variable\n",
        "for predictor in continuas:\n",
        "    #BostonData.plot.scatter(x=predictor, y='MEDV', figsize=(10,5), title=predictor+\" VS \"+ 'MEDV')\n",
        "    plot=sb.histplot(dataframe[predictor],kde=True )\n",
        "    plt.ylabel('')\n",
        "    plt.xlabel('Valor')\n",
        "    plt.legend(predictor)\n",
        "    plt.show()\n",
        "\n",
        "plot=sns.distplot(dataframe[predictor],hist=True)\n",
        "\n",
        "plt.ylabel('Densidade')\n",
        "plt.xlabel('Preço')\n",
        "plt.xlim(left=0,right=2000000)\n",
        "plt.xticks(rotation=30)\n",
        "plt.show()\n",
        "'''\n",
        "fig, ax = plt.subplots(nrows = 4, ncols = 3, figsize=(20,20))\n",
        "i,j = 0,0\n",
        "k = 0\n",
        "\n",
        "for i in range(4):\n",
        "    for j in range(3):\n",
        "        sb.distplot(x = dataframe[continuas[k]], ax = ax[i][j])\n",
        "        k += 1\n",
        "\n",
        "plt.tight_layout()\n",
        "plt.show()"
      ],
      "execution_count": 66,
      "outputs": [
        {
          "output_type": "error",
          "ename": "SyntaxError",
          "evalue": "ignored",
          "traceback": [
            "\u001b[0;36m  File \u001b[0;32m\"<ipython-input-66-eed2971e2f66>\"\u001b[0;36m, line \u001b[0;32m27\u001b[0m\n\u001b[0;31m    fig, ax = plt.subplots(nrows = 4, ncols = 3, figsize=(20,20))\u001b[0m\n\u001b[0m      ^\u001b[0m\n\u001b[0;31mSyntaxError\u001b[0m\u001b[0;31m:\u001b[0m invalid syntax\n"
          ]
        }
      ]
    },
    {
      "cell_type": "markdown",
      "metadata": {
        "id": "MgGiMVXwf4db"
      },
      "source": [
        "####CRIM\n",
        "Taxa de criminalidade *per-capita*."
      ]
    },
    {
      "cell_type": "code",
      "metadata": {
        "id": "qoHFp1H7gEE6"
      },
      "source": [
        "#Histograma\n",
        "dataframe.hist(['CRIM'])\n",
        "plt.show()\n",
        "#BoxPlot\n",
        "sb.boxplot(x = dataframe['CRIM'])\n",
        "plt.title(\"BoxPlot de 'CRIM'\")\n",
        "plt.show()"
      ],
      "execution_count": null,
      "outputs": []
    },
    {
      "cell_type": "markdown",
      "metadata": {
        "id": "9LKQu3qdkyoE"
      },
      "source": [
        "####ZN\n",
        "A proporção de terrenos residenciais zoneada para lotes com mais de 25.000 pés quadrados."
      ]
    },
    {
      "cell_type": "code",
      "metadata": {
        "id": "Ki3xkWkHlEQt"
      },
      "source": [
        "#Histograma\n",
        "sb.histplot(dataframe['ZN'])\n",
        "plt.show()\n",
        "#BoxPlot\n",
        "sb.boxplot(x = dataframe['ZN'])\n",
        "plt.title(\"BoxPlot de 'ZN'\")\n",
        "plt.show()"
      ],
      "execution_count": null,
      "outputs": []
    },
    {
      "cell_type": "markdown",
      "metadata": {
        "id": "2uUsRjrRm1H8"
      },
      "source": [
        "####INDUS\n",
        "A proporção de acres comerciais não varejistas por cidade."
      ]
    },
    {
      "cell_type": "code",
      "metadata": {
        "id": "voJt582JnA8T"
      },
      "source": [
        "#Histograma\n",
        "sb.histplot(dataframe['INDUS'])\n",
        "plt.show()\n",
        "#BoxPlot\n",
        "sb.boxplot(x = dataframe['INDUS'])\n",
        "plt.title(\"BoxPlot de 'INDUS'\")\n",
        "plt.show()"
      ],
      "execution_count": null,
      "outputs": []
    },
    {
      "cell_type": "markdown",
      "metadata": {
        "id": "RFge2GlyoTpt"
      },
      "source": [
        "####NOX\n",
        "Concentração de óxidos nítricos (partes por milhão)."
      ]
    },
    {
      "cell_type": "code",
      "metadata": {
        "id": "ZCDOUXi-nlXI"
      },
      "source": [
        "#Histograma\n",
        "sb.histplot(dataframe['NOX'])\n",
        "plt.show()\n",
        "#BoxPlot\n",
        "sb.boxplot(x = dataframe['NOX'])\n",
        "plt.title(\"BoxPlot de 'NOX'\")\n",
        "plt.show()"
      ],
      "execution_count": null,
      "outputs": []
    },
    {
      "cell_type": "markdown",
      "metadata": {
        "id": "8op8Sukhovwj"
      },
      "source": [
        "####RM\n",
        "O número médio de quartos por habitação."
      ]
    },
    {
      "cell_type": "code",
      "metadata": {
        "id": "STDunfgXnmj2"
      },
      "source": [
        "#Histograma\n",
        "sb.histplot(dataframe['RM'])\n",
        "plt.show()\n",
        "#BoxPlot\n",
        "sb.boxplot(x = dataframe['RM'])\n",
        "plt.title(\"BoxPlot de 'RM'\")\n",
        "plt.show()"
      ],
      "execution_count": null,
      "outputs": []
    },
    {
      "cell_type": "markdown",
      "metadata": {
        "id": "vc_dVSxZo9OE"
      },
      "source": [
        "###AGE\n",
        "A proporção de unidades ocupadas pelo proprietário construídas antes de 1940."
      ]
    },
    {
      "cell_type": "code",
      "metadata": {
        "id": "gClIkWOinngl"
      },
      "source": [
        "#Histograma\n",
        "sb.histplot(dataframe['AGE'])\n",
        "plt.show()\n",
        "#BoxPlot\n",
        "sb.boxplot(x = dataframe['AGE'])\n",
        "plt.title(\"BoxPlot de 'AGE'\")\n",
        "plt.show()"
      ],
      "execution_count": null,
      "outputs": []
    },
    {
      "cell_type": "markdown",
      "metadata": {
        "id": "yTw-fBH8pK_z"
      },
      "source": [
        "####DIS"
      ]
    },
    {
      "cell_type": "code",
      "metadata": {
        "id": "cvBO19EBnoGP"
      },
      "source": [
        "#Histograma\n",
        "sb.histplot(dataframe['DIS'])\n",
        "plt.show()\n",
        "#BoxPlot\n",
        "sb.boxplot(x = dataframe['DIS'])\n",
        "plt.title(\"BoxPlot de 'DIS'\")\n",
        "plt.show()"
      ],
      "execution_count": null,
      "outputs": []
    },
    {
      "cell_type": "code",
      "metadata": {
        "id": "9Lkoq0fLnoow"
      },
      "source": [
        "#Histograma\n",
        "sb.histplot(dataframe['INDUS'])\n",
        "plt.show()\n",
        "#BoxPlot\n",
        "sb.boxplot(x = dataframe['INDUS'])\n",
        "plt.title(\"BoxPlot de 'INDUS'\")\n",
        "plt.show()"
      ],
      "execution_count": null,
      "outputs": []
    },
    {
      "cell_type": "code",
      "metadata": {
        "id": "JdPdQevUnpMJ"
      },
      "source": [
        "#Histograma\n",
        "sb.histplot(dataframe['INDUS'])\n",
        "plt.show()\n",
        "#BoxPlot\n",
        "sb.boxplot(x = dataframe['INDUS'])\n",
        "plt.title(\"BoxPlot de 'INDUS'\")\n",
        "plt.show()"
      ],
      "execution_count": null,
      "outputs": []
    },
    {
      "cell_type": "code",
      "metadata": {
        "id": "SDC4_SWanp82"
      },
      "source": [
        "#Histograma\n",
        "sb.histplot(dataframe['INDUS'])\n",
        "plt.show()\n",
        "#BoxPlot\n",
        "sb.boxplot(x = dataframe['INDUS'])\n",
        "plt.title(\"BoxPlot de 'INDUS'\")\n",
        "plt.show()"
      ],
      "execution_count": null,
      "outputs": []
    },
    {
      "cell_type": "code",
      "metadata": {
        "id": "AKPsLX2vnqed"
      },
      "source": [
        "#Histograma\n",
        "sb.histplot(dataframe['INDUS'])\n",
        "plt.show()\n",
        "#BoxPlot\n",
        "sb.boxplot(x = dataframe['INDUS'])\n",
        "plt.title(\"BoxPlot de 'INDUS'\")\n",
        "plt.show()"
      ],
      "execution_count": null,
      "outputs": []
    },
    {
      "cell_type": "code",
      "metadata": {
        "id": "B9oqGgl6nrFv"
      },
      "source": [
        "#Histograma\n",
        "sb.histplot(dataframe['INDUS'])\n",
        "plt.show()\n",
        "#BoxPlot\n",
        "sb.boxplot(x = dataframe['INDUS'])\n",
        "plt.title(\"BoxPlot de 'INDUS'\")\n",
        "plt.show()"
      ],
      "execution_count": null,
      "outputs": []
    },
    {
      "cell_type": "markdown",
      "metadata": {
        "id": "yUPZWDLRsD_b"
      },
      "source": [
        "Vamos agora analisar a matriz de correlação usando um \"heatmap\" para as variáveis contínuas, e um teste \"ANOVA\" para as discretas."
      ]
    },
    {
      "cell_type": "code",
      "metadata": {
        "id": "w3zZQtWdslxy"
      },
      "source": [
        "matriz_cor = dataframe.corr().round(2)\n",
        "plt.figure(figsize=(20,5))\n",
        "sb.heatmap(matriz_cor, annot = True, cmap = \"seismic\")\n",
        "plt.show()"
      ],
      "execution_count": null,
      "outputs": []
    },
    {
      "cell_type": "code",
      "metadata": {
        "id": "1mzeGNzZtOWe"
      },
      "source": [
        ""
      ],
      "execution_count": null,
      "outputs": []
    }
  ]
}